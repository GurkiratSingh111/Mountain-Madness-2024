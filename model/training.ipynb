{
 "cells": [
  {
   "cell_type": "code",
   "execution_count": 6,
   "metadata": {},
   "outputs": [],
   "source": [
    "import tensorflow as tf\n",
    "import pandas as pd\n",
    "import numpy as np\n",
    "from tensorflow import keras"
   ]
  },
  {
   "cell_type": "code",
   "execution_count": 7,
   "metadata": {},
   "outputs": [
    {
     "name": "stdout",
     "output_type": "stream",
     "text": [
      "Found 1322 images belonging to 3 classes.\n",
      "Found 60 images belonging to 3 classes.\n"
     ]
    }
   ],
   "source": [
    "# getting the training,validation and testing data\n",
    "from keras.preprocessing.image import ImageDataGenerator\n",
    "\n",
    "train_datagen = ImageDataGenerator(rescale=1./255, shear_range=0.2, zoom_range=0.2, horizontal_flip=True)\n",
    "test_datagen = ImageDataGenerator(rescale=1./255)\n",
    "\n",
    "training_data = train_datagen.flow_from_directory('Train',\n",
    "                                                    target_size=(225, 225),\n",
    "                                                    batch_size=32,\n",
    "                                                    class_mode='categorical')\n",
    "\n",
    "validation_data = test_datagen.flow_from_directory('Validation',\n",
    "                                                        target_size=(225, 225),\n",
    "                                                        batch_size=32,\n",
    "                                                        class_mode='categorical')"
   ]
  },
  {
   "cell_type": "code",
   "execution_count": 8,
   "metadata": {},
   "outputs": [],
   "source": [
    "# building the model \n",
    "model = keras.Sequential([\n",
    "    keras.layers.Conv2D(filters=32,kernel_size=(3,3),strides=(1,1),input_shape=(225,225,3),activation='relu'),\n",
    "    keras.layers.MaxPool2D(),\n",
    "    keras.layers.Conv2D(filters=64,kernel_size=(3,3),strides=(1,1)),\n",
    "    keras.layers.MaxPool2D(),\n",
    "    keras.layers.Flatten(),\n",
    "    keras.layers.Dense(64,activation='relu'),\n",
    "    keras.layers.Dense(3,activation='softmax')]\n",
    ")"
   ]
  },
  {
   "cell_type": "code",
   "execution_count": 12,
   "metadata": {},
   "outputs": [
    {
     "name": "stdout",
     "output_type": "stream",
     "text": [
      "Epoch 1/5\n",
      "42/42 [==============================] - 124s 3s/step - loss: 0.6998 - accuracy: 0.7511 - val_loss: 0.5827 - val_accuracy: 0.7667\n",
      "Epoch 2/5\n",
      "42/42 [==============================] - 125s 3s/step - loss: 0.3934 - accuracy: 0.8487 - val_loss: 0.5703 - val_accuracy: 0.7500\n",
      "Epoch 3/5\n",
      "42/42 [==============================] - 115s 3s/step - loss: 0.3096 - accuracy: 0.8888 - val_loss: 0.3779 - val_accuracy: 0.8667\n",
      "Epoch 4/5\n",
      "42/42 [==============================] - 105s 2s/step - loss: 0.2925 - accuracy: 0.8949 - val_loss: 0.3571 - val_accuracy: 0.8667\n",
      "Epoch 5/5\n",
      "42/42 [==============================] - 102s 2s/step - loss: 0.2663 - accuracy: 0.9002 - val_loss: 0.4942 - val_accuracy: 0.8833\n"
     ]
    }
   ],
   "source": [
    "# training the model\n",
    "model.compile(\n",
    "    optimizer='adam',\n",
    "    loss='categorical_crossentropy',metrics=['accuracy'])\n",
    "\n",
    "history = model.fit(training_data,\n",
    "                    batch_size=16,\n",
    "                    epochs=5,\n",
    "                    validation_data=validation_data,\n",
    "                    validation_batch_size=16\n",
    ")"
   ]
  },
  {
   "cell_type": "code",
   "execution_count": 11,
   "metadata": {},
   "outputs": [],
   "source": [
    "model.save('plant_model.h5', save_format='h5')"
   ]
  },
  {
   "cell_type": "code",
   "execution_count": null,
   "metadata": {},
   "outputs": [],
   "source": []
  }
 ],
 "metadata": {
  "kernelspec": {
   "display_name": "Python 3",
   "language": "python",
   "name": "python3"
  },
  "language_info": {
   "codemirror_mode": {
    "name": "ipython",
    "version": 3
   },
   "file_extension": ".py",
   "mimetype": "text/x-python",
   "name": "python",
   "nbconvert_exporter": "python",
   "pygments_lexer": "ipython3",
   "version": "3.9.0"
  }
 },
 "nbformat": 4,
 "nbformat_minor": 2
}
