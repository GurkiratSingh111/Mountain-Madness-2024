{
 "cells": [
  {
   "cell_type": "code",
   "execution_count": 50,
   "metadata": {},
   "outputs": [],
   "source": [
    "import tensorflow as tf\n",
    "import pandas as pd\n",
    "import numpy as np\n",
    "from tensorflow import keras"
   ]
  },
  {
   "cell_type": "code",
   "execution_count": 36,
   "metadata": {},
   "outputs": [
    {
     "name": "stdout",
     "output_type": "stream",
     "text": [
      "Found 1322 images belonging to 3 classes.\n",
      "Found 60 images belonging to 3 classes.\n"
     ]
    }
   ],
   "source": [
    "# getting the training,validation and testing data\n",
    "from keras.preprocessing.image import ImageDataGenerator\n",
    "\n",
    "train_datagen = ImageDataGenerator(rescale=1./255, shear_range=0.2, zoom_range=0.2, horizontal_flip=True)\n",
    "test_datagen = ImageDataGenerator(rescale=1./255)\n",
    "\n",
    "training_data = train_datagen.flow_from_directory('Train',\n",
    "                                                    target_size=(225, 225),\n",
    "                                                    batch_size=32,\n",
    "                                                    class_mode='categorical')\n",
    "\n",
    "validation_data = test_datagen.flow_from_directory('Validation',\n",
    "                                                        target_size=(225, 225),\n",
    "                                                        batch_size=32,\n",
    "                                                        class_mode='categorical')"
   ]
  },
  {
   "cell_type": "code",
   "execution_count": 37,
   "metadata": {},
   "outputs": [],
   "source": [
    "# building the model \n",
    "model = keras.Sequential([\n",
    "    keras.layers.Conv2D(filters=32,kernel_size=(3,3),strides=(1,1),input_shape=(225,225,3),activation='relu'),\n",
    "    keras.layers.MaxPool2D(),\n",
    "    keras.layers.Conv2D(filters=64,kernel_size=(3,3),strides=(1,1)),\n",
    "    keras.layers.MaxPool2D(),\n",
    "    keras.layers.Flatten(),\n",
    "    keras.layers.Dense(64,activation='relu'),\n",
    "    keras.layers.Dense(3,activation='softmax')]\n",
    ")"
   ]
  },
  {
   "cell_type": "code",
   "execution_count": 38,
   "metadata": {},
   "outputs": [
    {
     "name": "stdout",
     "output_type": "stream",
     "text": [
      "Epoch 1/5\n",
      "42/42 [==============================] - 112s 3s/step - loss: 0.9123 - accuracy: 0.5855 - val_loss: 0.7547 - val_accuracy: 0.6167\n",
      "Epoch 2/5\n",
      "42/42 [==============================] - 137s 3s/step - loss: 0.5550 - accuracy: 0.7761 - val_loss: 0.6027 - val_accuracy: 0.7667\n",
      "Epoch 3/5\n",
      "42/42 [==============================] - 125s 3s/step - loss: 0.5298 - accuracy: 0.7761 - val_loss: 0.6362 - val_accuracy: 0.7333\n",
      "Epoch 4/5\n",
      "42/42 [==============================] - 128s 3s/step - loss: 0.4595 - accuracy: 0.8154 - val_loss: 0.5940 - val_accuracy: 0.7333\n",
      "Epoch 5/5\n",
      "42/42 [==============================] - 128s 3s/step - loss: 0.4392 - accuracy: 0.8139 - val_loss: 0.5524 - val_accuracy: 0.7833\n"
     ]
    }
   ],
   "source": [
    "# training the model\n",
    "model.compile(\n",
    "    optimizer=tf.keras.optimizers.legacy.Adam(learning_rate=0.0001),\n",
    "    loss='categorical_crossentropy',metrics=['accuracy'])\n",
    "\n",
    "history = model.fit(training_data,\n",
    "                    batch_size=16,\n",
    "                    epochs=5,\n",
    "                    validation_data=validation_data,\n",
    "                    validation_batch_size=16\n",
    ")"
   ]
  },
  {
   "cell_type": "code",
   "execution_count": 39,
   "metadata": {},
   "outputs": [],
   "source": [
    "model.save('plant_model.h5', save_format='h5')"
   ]
  },
  {
   "cell_type": "code",
   "execution_count": 58,
   "metadata": {},
   "outputs": [
    {
     "name": "stdout",
     "output_type": "stream",
     "text": [
      "1/1 [==============================] - 0s 100ms/step\n"
     ]
    },
    {
     "data": {
      "text/plain": [
       "array([[9.9173212e-01, 3.6996573e-06, 8.2641346e-03]], dtype=float32)"
      ]
     },
     "execution_count": 58,
     "metadata": {},
     "output_type": "execute_result"
    }
   ],
   "source": [
    "# predicting the test values\n",
    "model = keras.models.load_model('plant_model.h5')\n",
    "import cv2\n",
    "img = cv2.imread('Test/Healthy/8def4d91382175c3.jpg')\n",
    "img = cv2.resize(img, (225, 225), interpolation=cv2.INTER_AREA)\n",
    "img = img / 255\n",
    "img = np.expand_dims(img, axis=0)\n",
    "y_predict = model.predict(img)\n",
    "y_predict"
   ]
  },
  {
   "cell_type": "code",
   "execution_count": null,
   "metadata": {},
   "outputs": [],
   "source": []
  }
 ],
 "metadata": {
  "kernelspec": {
   "display_name": "Python 3",
   "language": "python",
   "name": "python3"
  },
  "language_info": {
   "codemirror_mode": {
    "name": "ipython",
    "version": 3
   },
   "file_extension": ".py",
   "mimetype": "text/x-python",
   "name": "python",
   "nbconvert_exporter": "python",
   "pygments_lexer": "ipython3",
   "version": "3.9.0"
  }
 },
 "nbformat": 4,
 "nbformat_minor": 2
}
